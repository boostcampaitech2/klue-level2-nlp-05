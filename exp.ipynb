{
 "cells": [
  {
   "cell_type": "code",
   "execution_count": 1,
   "source": [
    "from dataset.augmentation.augmentations import SimpleRandomUNK, RandomUNKWithInputMask, UNKWithInputMask\n",
    "from dataset.preprocessor.preprocessors import BaselinePreprocessor\n",
    "from transformers import AutoTokenizer\n",
    "import numpy as np"
   ],
   "outputs": [],
   "metadata": {}
  },
  {
   "cell_type": "code",
   "execution_count": 2,
   "source": [
    "from dataset.dataset import BaselineDataset"
   ],
   "outputs": [],
   "metadata": {}
  },
  {
   "cell_type": "code",
   "execution_count": 3,
   "source": [
    "dataset = BaselineDataset(\"/opt/ml/dataset/\")"
   ],
   "outputs": [],
   "metadata": {}
  },
  {
   "cell_type": "code",
   "execution_count": 4,
   "source": [
    "preprocessor = BaselinePreprocessor()"
   ],
   "outputs": [],
   "metadata": {}
  },
  {
   "cell_type": "code",
   "execution_count": 5,
   "source": [
    "dataset.set_preprocessor(preprocessor)"
   ],
   "outputs": [],
   "metadata": {}
  },
  {
   "cell_type": "code",
   "execution_count": 6,
   "source": [
    "dataset.preprocess()"
   ],
   "outputs": [],
   "metadata": {}
  },
  {
   "cell_type": "code",
   "execution_count": 7,
   "source": [
    "MODEL_NAME = \"klue/bert-base\"\n",
    "tokenizer = AutoTokenizer.from_pretrained(MODEL_NAME)"
   ],
   "outputs": [],
   "metadata": {}
  },
  {
   "cell_type": "code",
   "execution_count": 8,
   "source": [
    "dataset.set_tokenizer(tokenizer)"
   ],
   "outputs": [],
   "metadata": {}
  },
  {
   "cell_type": "code",
   "execution_count": 9,
   "source": [
    "for out in dataset:\n",
    "    for key, value in out.items():\n",
    "        print(key, value)\n",
    "    break"
   ],
   "outputs": [
    {
     "output_type": "stream",
     "name": "stdout",
     "text": [
      "input_ids tensor([[    2,    11, 29830,    11,     3,    11,  8373, 14113,  2234,    11,\n",
      "             3,   168, 30985, 14451,  7088,  4586,   169,   793,  8373, 14113,\n",
      "          2234,  2052,  1363,  2088, 29830,  2116, 14879,  2440,  6711,   170,\n",
      "         21406, 26713,  2076, 25145,  5749,   171,  1421,   818,  2073,  4388,\n",
      "          2062,    18,     3]])\n",
      "token_type_ids tensor([[0, 0, 0, 0, 0, 0, 0, 0, 0, 0, 0, 1, 1, 1, 1, 1, 1, 1, 1, 1, 1, 1, 1, 1,\n",
      "         1, 1, 1, 1, 1, 1, 1, 1, 1, 1, 1, 1, 1, 1, 1, 1, 1, 1, 1]])\n",
      "attention_mask tensor([[1, 1, 1, 1, 1, 1, 1, 1, 1, 1, 1, 1, 1, 1, 1, 1, 1, 1, 1, 1, 1, 1, 1, 1,\n",
      "         1, 1, 1, 1, 1, 1, 1, 1, 1, 1, 1, 1, 1, 1, 1, 1, 1, 1, 1]])\n",
      "label tensor([ 0,  0, 20,  ...,  1,  0,  1])\n"
     ]
    }
   ],
   "metadata": {}
  },
  {
   "cell_type": "code",
   "execution_count": 10,
   "source": [
    "input_sentence = \"The specific problem has already been solved in previous answers, so I will address the general idea of using conditionals inside list comprehensions.\"\n",
    "input_sentence"
   ],
   "outputs": [
    {
     "output_type": "execute_result",
     "data": {
      "text/plain": [
       "'The specific problem has already been solved in previous answers, so I will address the general idea of using conditionals inside list comprehensions.'"
      ]
     },
     "metadata": {},
     "execution_count": 10
    }
   ],
   "metadata": {}
  },
  {
   "cell_type": "code",
   "execution_count": 3,
   "source": [
    "augmentation = SimpleRandomUNK('<unk>', 0.15)"
   ],
   "outputs": [],
   "metadata": {}
  },
  {
   "cell_type": "code",
   "execution_count": 4,
   "source": [
    "for i in range(5):\n",
    "    print(augmentation(input_sentence))"
   ],
   "outputs": [
    {
     "output_type": "stream",
     "name": "stdout",
     "text": [
      "<unk> specific problem has already <unk> solved in previous <unk> so I <unk> address the general idea of using conditionals inside list comprehensions.\n",
      "The specific <unk> has already <unk> solved in previous <unk> so I <unk> address the general idea of using conditionals inside list comprehensions.\n",
      "The specific problem has already been solved <unk> previous answers, so I will <unk> the general idea of using conditionals inside <unk> <unk>\n",
      "<unk> <unk> problem has already <unk> solved <unk> previous answers, so I <unk> address the general idea of using conditionals inside list comprehensions.\n",
      "The specific <unk> <unk> already been solved in previous answers, so <unk> will address the general <unk> <unk> using conditionals inside list <unk>\n"
     ]
    }
   ],
   "metadata": {}
  },
  {
   "cell_type": "code",
   "execution_count": 5,
   "source": [
    "augmentation = RandomUNKWithInputMask('<unk>', 0.2)"
   ],
   "outputs": [],
   "metadata": {}
  },
  {
   "cell_type": "code",
   "execution_count": 6,
   "source": [
    "input_mask = np.array([0, 0, 1, 0, 0, 0, 1, 0, 1, 0, 1, 1, 0, 1, 0, 1, 1, 0, 1, 1, 1, 1, 1])\n",
    "input_mask"
   ],
   "outputs": [
    {
     "output_type": "execute_result",
     "data": {
      "text/plain": [
       "array([0, 0, 1, 0, 0, 0, 1, 0, 1, 0, 1, 1, 0, 1, 0, 1, 1, 0, 1, 1, 1, 1,\n",
       "       1])"
      ]
     },
     "metadata": {},
     "execution_count": 6
    }
   ],
   "metadata": {}
  },
  {
   "cell_type": "code",
   "execution_count": 8,
   "source": [
    "for i in range(5):\n",
    "    print(augmentation(input_sentence, input_mask, True))"
   ],
   "outputs": [
    {
     "output_type": "stream",
     "name": "stdout",
     "text": [
      "<unk> specific problem <unk> already been solved <unk> previous answers, so I <unk> address the general idea of using conditionals inside list comprehensions.\n",
      "The <unk> problem has already been solved in previous answers, so I will address the general idea <unk> using conditionals inside list comprehensions.\n",
      "<unk> specific problem has <unk> been solved <unk> previous <unk> so I will address the general idea of using conditionals inside list comprehensions.\n",
      "The specific problem <unk> already <unk> solved <unk> previous answers, so I <unk> address the general idea <unk> using conditionals inside list comprehensions.\n",
      "The specific problem has <unk> been solved in previous <unk> so I <unk> address the general idea of using conditionals inside list comprehensions.\n"
     ]
    }
   ],
   "metadata": {}
  },
  {
   "cell_type": "code",
   "execution_count": 9,
   "source": [
    "for i in range(5):\n",
    "    print(augmentation(input_sentence, input_mask, False))"
   ],
   "outputs": [
    {
     "output_type": "stream",
     "name": "stdout",
     "text": [
      "The <unk> problem has <unk> been solved in previous answers, so I will address the general idea <unk> using conditionals inside list comprehensions.\n",
      "<unk> specific problem has already been solved in previous answers, so I will address the general idea <unk> using conditionals inside list comprehensions.\n",
      "The specific problem <unk> already <unk> solved in previous answers, so I will address the general idea of using conditionals inside list comprehensions.\n",
      "<unk> <unk> problem has already <unk> solved in previous answers, so I will address the general idea of using conditionals inside list comprehensions.\n",
      "The specific problem has already been solved in previous answers, so I will address the general idea <unk> using conditionals inside list comprehensions.\n"
     ]
    }
   ],
   "metadata": {}
  },
  {
   "cell_type": "code",
   "execution_count": 10,
   "source": [
    "augmentation = UNKWithInputMask('<unk>')"
   ],
   "outputs": [],
   "metadata": {}
  },
  {
   "cell_type": "code",
   "execution_count": 11,
   "source": [
    "for i in range(5):\n",
    "    print(augmentation(input_sentence,input_mask))"
   ],
   "outputs": [
    {
     "output_type": "stream",
     "name": "stdout",
     "text": [
      "<unk> <unk> problem <unk> <unk> <unk> solved <unk> previous <unk> so I <unk> address <unk> general idea <unk> using conditionals inside list comprehensions.\n",
      "<unk> <unk> problem <unk> <unk> <unk> solved <unk> previous <unk> so I <unk> address <unk> general idea <unk> using conditionals inside list comprehensions.\n",
      "<unk> <unk> problem <unk> <unk> <unk> solved <unk> previous <unk> so I <unk> address <unk> general idea <unk> using conditionals inside list comprehensions.\n",
      "<unk> <unk> problem <unk> <unk> <unk> solved <unk> previous <unk> so I <unk> address <unk> general idea <unk> using conditionals inside list comprehensions.\n",
      "<unk> <unk> problem <unk> <unk> <unk> solved <unk> previous <unk> so I <unk> address <unk> general idea <unk> using conditionals inside list comprehensions.\n"
     ]
    }
   ],
   "metadata": {}
  }
 ],
 "metadata": {
  "orig_nbformat": 4,
  "language_info": {
   "name": "python",
   "version": "3.8.5",
   "mimetype": "text/x-python",
   "codemirror_mode": {
    "name": "ipython",
    "version": 3
   },
   "pygments_lexer": "ipython3",
   "nbconvert_exporter": "python",
   "file_extension": ".py"
  },
  "kernelspec": {
   "name": "python3",
   "display_name": "Python 3.8.5 64-bit ('base': conda)"
  },
  "interpreter": {
   "hash": "98b0a9b7b4eaaa670588a142fd0a9b87eaafe866f1db4228be72b4211d12040f"
  }
 },
 "nbformat": 4,
 "nbformat_minor": 2
}