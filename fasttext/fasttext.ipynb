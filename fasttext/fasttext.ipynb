{
 "cells": [
  {
   "cell_type": "markdown",
   "source": [
    "# Instruction"
   ],
   "metadata": {}
  },
  {
   "cell_type": "markdown",
   "source": [
    "To install `pip install fasttext`,\n",
    "\n",
    "first run `apt-get install build-essential -y`!\n",
    "\n",
    "Before running this ipynb notebook,\n",
    "\n",
    "first run `python download_fasttext.py`.\n",
    "\n",
    "then, run `python reduce_dim.py cc.ko.300.bin cc.ko.100.bin 100`"
   ],
   "metadata": {}
  },
  {
   "cell_type": "markdown",
   "source": [
    "# Install Nanum Font"
   ],
   "metadata": {}
  },
  {
   "cell_type": "markdown",
   "source": [
    "```\n",
    "apt-get install fonts-nanum*\n",
    "apt-get install fontconfig\n",
    "rm -rf ~/.cache/matplotlib/*\n",
    "```"
   ],
   "metadata": {}
  },
  {
   "cell_type": "markdown",
   "source": [
    "# Load fastText Model"
   ],
   "metadata": {}
  },
  {
   "cell_type": "code",
   "execution_count": 17,
   "source": [
    "import fasttext\n",
    "import fasttext.util\n",
    "\n",
    "from gensim import models"
   ],
   "outputs": [],
   "metadata": {}
  },
  {
   "cell_type": "code",
   "execution_count": 18,
   "source": [
    "ft = fasttext.load_model('cc.ko.100.bin')"
   ],
   "outputs": [
    {
     "output_type": "stream",
     "name": "stderr",
     "text": [
      "Warning : `load_model` does not return WordVectorModel or SupervisedModel any more, but a `FastText` object which is very similar.\n"
     ]
    }
   ],
   "metadata": {}
  },
  {
   "cell_type": "markdown",
   "source": [
    "# Nearest Words"
   ],
   "metadata": {}
  },
  {
   "cell_type": "code",
   "execution_count": 3,
   "source": [
    "results = ft.get_nearest_neighbors(\"파이썬\", k=10)\n",
    "for d, w in results:\n",
    "    print(\"%.3f: %s\" % (d, w))"
   ],
   "outputs": [
    {
     "output_type": "stream",
     "name": "stdout",
     "text": [
      "0.750: 자바스크립트\n",
      "0.724: 프로그래밍\n",
      "0.716: 텐서플로우\n",
      "0.714: 레일스\n",
      "0.701: 제이쿼리\n",
      "0.689: Python\n",
      "0.679: 정규표현식\n",
      "0.674: 파이선\n",
      "0.672: 리눅스\n",
      "0.671: 파이썬을\n"
     ]
    }
   ],
   "metadata": {}
  },
  {
   "cell_type": "code",
   "execution_count": 4,
   "source": [
    "results = ft.get_nearest_neighbors(\"게임\", k=10)\n",
    "for d, w in results:\n",
    "    print(\"%.3f: %s\" % (d, w))"
   ],
   "outputs": [
    {
     "output_type": "stream",
     "name": "stdout",
     "text": [
      "0.762: 슈팅\n",
      "0.725: 만화\n",
      "0.723: 콘솔\n",
      "0.721: VR\n",
      "0.711: 위쳐\n",
      "0.711: 농구\n",
      "0.709: 라테일\n",
      "0.708: 장르\n",
      "0.708: 건슈팅\n",
      "0.706: 턴제\n"
     ]
    }
   ],
   "metadata": {}
  },
  {
   "cell_type": "code",
   "execution_count": 5,
   "source": [
    "results = ft.get_nearest_neighbors(\"이순신\", k=10)\n",
    "for d, w in results:\n",
    "    print(\"%.3f: %s\" % (d, w))"
   ],
   "outputs": [
    {
     "output_type": "stream",
     "name": "stdout",
     "text": [
      "0.757: 이순신장군\n",
      "0.713: 김시민\n",
      "0.702: 곽재우\n",
      "0.698: 행주대첩\n",
      "0.695: 충무공\n",
      "0.686: 이순신과\n",
      "0.685: 이순신장군의\n",
      "0.683: 이여송\n",
      "0.677: 李純信\n",
      "0.676: 율곡이이\n"
     ]
    }
   ],
   "metadata": {}
  },
  {
   "cell_type": "code",
   "execution_count": 6,
   "source": [
    "results = ft.get_nearest_neighbors(\"과학\", k=10)\n",
    "for d, w in results:\n",
    "    print(\"%.3f: %s\" % (d, w))"
   ],
   "outputs": [
    {
     "output_type": "stream",
     "name": "stdout",
     "text": [
      "0.795: 의학\n",
      "0.782: 수학\n",
      "0.778: 공학\n",
      "0.769: 학문\n",
      "0.750: 철학\n",
      "0.726: 물리\n",
      "0.726: 科學\n",
      "0.719: 학술\n",
      "0.717: 교육\n",
      "0.711: 인문\n"
     ]
    }
   ],
   "metadata": {}
  },
  {
   "cell_type": "markdown",
   "source": [
    "# Get Nearest Word Vectors"
   ],
   "metadata": {}
  },
  {
   "cell_type": "code",
   "execution_count": 11,
   "source": [
    "import numpy as np\n",
    "import pandas as pd\n",
    "\n",
    "from sklearn.decomposition import PCA, TruncatedSVD\n",
    "from sklearn.manifold import TSNE\n",
    "\n",
    "import matplotlib as mpl\n",
    "import matplotlib.pyplot as plt\n",
    "from mpl_toolkits.mplot3d import Axes3D\n",
    "\n",
    "import seaborn as sns\n",
    "\n",
    "mpl.rcParams['axes.unicode_minus'] = False\n",
    "plt.rcParams[\"font.family\"] = 'NanumGothic'"
   ],
   "outputs": [],
   "metadata": {}
  },
  {
   "cell_type": "code",
   "execution_count": 8,
   "source": [
    "def get_nearest_word_vectors(query_word: str, k: int = 10):\n",
    "    results = ft.get_nearest_neighbors(query_word, k)\n",
    "    word = [query_word]\n",
    "    similarity = [1]\n",
    "    word_vectors = [ft.get_word_vector(query_word)]\n",
    "    for d, w in results:\n",
    "        word.append(w)\n",
    "        similarity.append(d)\n",
    "        word_vectors.append(ft.get_word_vector(w))\n",
    "    return {'word': word,\n",
    "            'similarity': similarity,\n",
    "            'word_vectors': word_vectors}\n"
   ],
   "outputs": [],
   "metadata": {}
  },
  {
   "cell_type": "code",
   "execution_count": 9,
   "source": [
    "results = get_nearest_word_vectors(\"애플\", k=20)"
   ],
   "outputs": [],
   "metadata": {}
  },
  {
   "cell_type": "code",
   "execution_count": 10,
   "source": [
    "pca = PCA(n_components=3)\n",
    "pca_result = pca.fit_transform(results[\"word_vectors\"])"
   ],
   "outputs": [],
   "metadata": {}
  },
  {
   "cell_type": "code",
   "execution_count": 11,
   "source": [
    "svd = TruncatedSVD(n_components=3)\n",
    "svd_result = svd.fit_transform(results[\"word_vectors\"])"
   ],
   "outputs": [],
   "metadata": {}
  },
  {
   "cell_type": "code",
   "execution_count": 12,
   "source": [
    "print(pca.explained_variance_ratio_)\n",
    "print(svd.explained_variance_ratio_)"
   ],
   "outputs": [
    {
     "output_type": "stream",
     "name": "stdout",
     "text": [
      "[0.21812107 0.13263512 0.09805022]\n",
      "[0.20108709 0.13291046 0.09813917]\n"
     ]
    }
   ],
   "metadata": {}
  },
  {
   "cell_type": "code",
   "execution_count": 13,
   "source": [
    "ax1, ax2 = 0, 1\n",
    "\n",
    "plt.scatter(x=pca_result[:, ax1], y=pca_result[:, ax2], \n",
    "    c=['red' if i == 0 else 'blue' for i in range(len(pca_result))])\n",
    "for x, y, s in zip(pca_result[:, ax1]+0.01, pca_result[:, ax2]+0.01, results[\"word\"]):\n",
    "    plt.text(x, y, s)"
   ],
   "outputs": [
    {
     "output_type": "display_data",
     "data": {
      "image/png": "[encoded data removed]",
      "text/plain": [
       "<Figure size 432x288 with 1 Axes>"
      ]
     },
     "metadata": {
      "needs_background": "light"
     }
    }
   ],
   "metadata": {}
  },
  {
   "cell_type": "code",
   "execution_count": 14,
   "source": [
    "ax1, ax2 = 0, 1\n",
    "\n",
    "plt.scatter(x=svd_result[:, ax1], y=svd_result[:, ax2], \n",
    "    c=['red' if i == 0 else 'blue' for i in range(len(svd_result))])\n",
    "for x, y, s in zip(svd_result[:, ax1]+0.01, svd_result[:, ax2]+0.01, results[\"word\"]):\n",
    "    plt.text(x, y, s)"
   ],
   "outputs": [
    {
     "output_type": "display_data",
     "data": {
      "image/png": "[encoded data removed]",
      "text/plain": [
       "<Figure size 432x288 with 1 Axes>"
      ]
     },
     "metadata": {
      "needs_background": "light"
     }
    }
   ],
   "metadata": {}
  },
  {
   "cell_type": "code",
   "execution_count": 15,
   "source": [
    "ax1, ax2 = np.argsort(svd.components_[0])[-1], np.argsort(svd.components_[0])[-2]\n",
    "\n",
    "xs = [results['word_vectors'][i][ax1] for i in range(len(results['word_vectors']))]\n",
    "ys = [results['word_vectors'][i][ax2] for i in range(len(results['word_vectors']))]\n",
    "\n",
    "plt.scatter(x=xs, y=ys, c=['red' if i == 0 else 'blue' for i in range(len(svd_result))])\n",
    "plt.xlabel(\"dim1:\" + str(ax1))\n",
    "plt.ylabel(\"dim2:\" + str(ax2))\n",
    "for x, y, s in zip(xs, ys, results[\"word\"]):\n",
    "    plt.text(x+0.01, y+0.01, s)"
   ],
   "outputs": [
    {
     "output_type": "display_data",
     "data": {
      "image/png": "[encoded data removed]",
      "text/plain": [
       "<Figure size 432x288 with 1 Axes>"
      ]
     },
     "metadata": {
      "needs_background": "light"
     }
    }
   ],
   "metadata": {}
  },
  {
   "cell_type": "markdown",
   "source": [
    "# Pandas"
   ],
   "metadata": {}
  },
  {
   "cell_type": "code",
   "execution_count": 12,
   "source": [
    "train_df = pd.read_csv(\"/opt/ml/dataset/train/train.csv\")\n",
    "train_df.head()"
   ],
   "outputs": [
    {
     "output_type": "execute_result",
     "data": {
      "text/html": [
       "<div>\n",
       "<style scoped>\n",
       "    .dataframe tbody tr th:only-of-type {\n",
       "        vertical-align: middle;\n",
       "    }\n",
       "\n",
       "    .dataframe tbody tr th {\n",
       "        vertical-align: top;\n",
       "    }\n",
       "\n",
       "    .dataframe thead th {\n",
       "        text-align: right;\n",
       "    }\n",
       "</style>\n",
       "<table border=\"1\" class=\"dataframe\">\n",
       "  <thead>\n",
       "    <tr style=\"text-align: right;\">\n",
       "      <th></th>\n",
       "      <th>id</th>\n",
       "      <th>sentence</th>\n",
       "      <th>subject_entity</th>\n",
       "      <th>object_entity</th>\n",
       "      <th>label</th>\n",
       "      <th>source</th>\n",
       "    </tr>\n",
       "  </thead>\n",
       "  <tbody>\n",
       "    <tr>\n",
       "      <th>0</th>\n",
       "      <td>0</td>\n",
       "      <td>〈Something〉는 조지 해리슨이 쓰고 비틀즈가 1969년 앨범 《Abbey R...</td>\n",
       "      <td>{'word': '비틀즈', 'start_idx': 24, 'end_idx': 26...</td>\n",
       "      <td>{'word': '조지 해리슨', 'start_idx': 13, 'end_idx':...</td>\n",
       "      <td>no_relation</td>\n",
       "      <td>wikipedia</td>\n",
       "    </tr>\n",
       "    <tr>\n",
       "      <th>1</th>\n",
       "      <td>1</td>\n",
       "      <td>호남이 기반인 바른미래당·대안신당·민주평화당이 우여곡절 끝에 합당해 민생당(가칭)으...</td>\n",
       "      <td>{'word': '민주평화당', 'start_idx': 19, 'end_idx': ...</td>\n",
       "      <td>{'word': '대안신당', 'start_idx': 14, 'end_idx': 1...</td>\n",
       "      <td>no_relation</td>\n",
       "      <td>wikitree</td>\n",
       "    </tr>\n",
       "    <tr>\n",
       "      <th>2</th>\n",
       "      <td>2</td>\n",
       "      <td>K리그2에서 성적 1위를 달리고 있는 광주FC는 지난 26일 한국프로축구연맹으로부터...</td>\n",
       "      <td>{'word': '광주FC', 'start_idx': 21, 'end_idx': 2...</td>\n",
       "      <td>{'word': '한국프로축구연맹', 'start_idx': 34, 'end_idx...</td>\n",
       "      <td>org:member_of</td>\n",
       "      <td>wikitree</td>\n",
       "    </tr>\n",
       "    <tr>\n",
       "      <th>3</th>\n",
       "      <td>3</td>\n",
       "      <td>균일가 생활용품점 (주)아성다이소(대표 박정부)는 코로나19 바이러스로 어려움을 겪...</td>\n",
       "      <td>{'word': '아성다이소', 'start_idx': 13, 'end_idx': ...</td>\n",
       "      <td>{'word': '박정부', 'start_idx': 22, 'end_idx': 24...</td>\n",
       "      <td>org:top_members/employees</td>\n",
       "      <td>wikitree</td>\n",
       "    </tr>\n",
       "    <tr>\n",
       "      <th>4</th>\n",
       "      <td>4</td>\n",
       "      <td>1967년 프로 야구 드래프트 1순위로 요미우리 자이언츠에게 입단하면서 등번호는 8...</td>\n",
       "      <td>{'word': '요미우리 자이언츠', 'start_idx': 22, 'end_id...</td>\n",
       "      <td>{'word': '1967', 'start_idx': 0, 'end_idx': 3,...</td>\n",
       "      <td>no_relation</td>\n",
       "      <td>wikipedia</td>\n",
       "    </tr>\n",
       "  </tbody>\n",
       "</table>\n",
       "</div>"
      ],
      "text/plain": [
       "   id                                           sentence  \\\n",
       "0   0  〈Something〉는 조지 해리슨이 쓰고 비틀즈가 1969년 앨범 《Abbey R...   \n",
       "1   1  호남이 기반인 바른미래당·대안신당·민주평화당이 우여곡절 끝에 합당해 민생당(가칭)으...   \n",
       "2   2  K리그2에서 성적 1위를 달리고 있는 광주FC는 지난 26일 한국프로축구연맹으로부터...   \n",
       "3   3  균일가 생활용품점 (주)아성다이소(대표 박정부)는 코로나19 바이러스로 어려움을 겪...   \n",
       "4   4  1967년 프로 야구 드래프트 1순위로 요미우리 자이언츠에게 입단하면서 등번호는 8...   \n",
       "\n",
       "                                      subject_entity  \\\n",
       "0  {'word': '비틀즈', 'start_idx': 24, 'end_idx': 26...   \n",
       "1  {'word': '민주평화당', 'start_idx': 19, 'end_idx': ...   \n",
       "2  {'word': '광주FC', 'start_idx': 21, 'end_idx': 2...   \n",
       "3  {'word': '아성다이소', 'start_idx': 13, 'end_idx': ...   \n",
       "4  {'word': '요미우리 자이언츠', 'start_idx': 22, 'end_id...   \n",
       "\n",
       "                                       object_entity  \\\n",
       "0  {'word': '조지 해리슨', 'start_idx': 13, 'end_idx':...   \n",
       "1  {'word': '대안신당', 'start_idx': 14, 'end_idx': 1...   \n",
       "2  {'word': '한국프로축구연맹', 'start_idx': 34, 'end_idx...   \n",
       "3  {'word': '박정부', 'start_idx': 22, 'end_idx': 24...   \n",
       "4  {'word': '1967', 'start_idx': 0, 'end_idx': 3,...   \n",
       "\n",
       "                       label     source  \n",
       "0                no_relation  wikipedia  \n",
       "1                no_relation   wikitree  \n",
       "2              org:member_of   wikitree  \n",
       "3  org:top_members/employees   wikitree  \n",
       "4                no_relation  wikipedia  "
      ]
     },
     "metadata": {},
     "execution_count": 12
    }
   ],
   "metadata": {}
  },
  {
   "cell_type": "code",
   "execution_count": 33,
   "source": [
    "import re\n",
    "import random\n",
    "from konlpy.tag import Okt"
   ],
   "outputs": [],
   "metadata": {}
  },
  {
   "cell_type": "markdown",
   "source": [
    "```\n",
    "bash <(curl -s https://raw.githubusercontent.com/konlpy/konlpy/master/scripts/mecab.sh)\n",
    "apt install default-jdk\n",
    "pip install jpype1==0.7.0\n",
    "pip install konlpy\n",
    "```"
   ],
   "metadata": {}
  },
  {
   "cell_type": "code",
   "execution_count": 6,
   "source": [
    "tokenizer = Okt()"
   ],
   "outputs": [],
   "metadata": {}
  },
  {
   "cell_type": "code",
   "execution_count": 7,
   "source": [
    "sentence = \"안녕하세요 김상현입니다 반갑습니다 오늘은 날씨가 맑네요\"\n",
    "print(tokenizer.morphs(sentence))"
   ],
   "outputs": [
    {
     "output_type": "stream",
     "name": "stdout",
     "text": [
      "['안녕하세요', '김상현', '입니다', '반갑습니다', '오늘', '은', '날씨', '가', '맑네요']\n"
     ]
    }
   ],
   "metadata": {}
  },
  {
   "cell_type": "code",
   "execution_count": 95,
   "source": [
    "import re\n",
    "import random\n",
    "\n",
    "import fasttext\n",
    "import fasttext.util\n",
    "from konlpy.tag import Okt\n",
    "\n",
    "ft = fasttext.load_model('cc.ko.100.bin')\n",
    "tokenizer = Okt()\n",
    "\n",
    "def get_nearest_word_vectors(query_word: str, k: int = 10):\n",
    "    results = ft.get_nearest_neighbors(query_word, k)\n",
    "    word = [query_word]\n",
    "    similarity = [1]\n",
    "    word_vectors = [ft.get_word_vector(query_word)]\n",
    "    for d, w in results:\n",
    "        word.append(w)\n",
    "        similarity.append(d)\n",
    "        word_vectors.append(ft.get_word_vector(w))\n",
    "    return {'word': word,\n",
    "            'similarity': similarity,\n",
    "            'word_vectors': word_vectors}\n",
    "\n",
    "\n",
    "def change_random_word(sentence: str, min_changes: int = 0, max_changes: int = 3, tokenizer = None):\n",
    "    \n",
    "    nouns  = tokenizer.nouns(sentence)\n",
    "    \n",
    "    num_changes = min(random.randint(min_changes, max_changes), len(nouns))\n",
    "    cnt = 0\n",
    "    trials = 0\n",
    "\n",
    "    while cnt < num_changes or trials > 10:\n",
    "\n",
    "        length = 0\n",
    "        trials += 1\n",
    "\n",
    "        while length < 2:\n",
    "            choice = random.randint(0, len(nouns)-1)\n",
    "            original_word = nouns[choice]\n",
    "            length = len(original_word)\n",
    "\n",
    "        start_idx = sentence.find(original_word)\n",
    "        end_idx = start_idx + len(original_word)\n",
    "\n",
    "        if start_idx == -1:\n",
    "            continue\n",
    "\n",
    "        k = 5\n",
    "        results = get_nearest_word_vectors(original_word, k=k)\n",
    "\n",
    "        for i in range(1, k+1):\n",
    "            replacing_word = results['word'][i]\n",
    "            tokenized = tokenizer.nouns(replacing_word)\n",
    "            if len(tokenized) == 0:\n",
    "                break\n",
    "            replacing_word = tokenized[0]\n",
    "\n",
    "            if len(original_word) < 2:\n",
    "                break\n",
    "            if original_word == replacing_word:\n",
    "                continue\n",
    "            if abs(len(replacing_word) - len(original_word)) > 2:\n",
    "                continue\n",
    "            if re.match(r'[^ㄱ-ㅣ가-힣]+', replacing_word):\n",
    "                continue\n",
    "\n",
    "            sentence = sentence[:start_idx] + replacing_word + sentence[end_idx:]\n",
    "            cnt += 1\n",
    "            # print(\"changed from\", original_word, \"to\", replacing_word)\n",
    "            break\n",
    "\n",
    "    return sentence"
   ],
   "outputs": [
    {
     "output_type": "stream",
     "name": "stderr",
     "text": [
      "Warning : `load_model` does not return WordVectorModel or SupervisedModel any more, but a `FastText` object which is very similar.\n"
     ]
    }
   ],
   "metadata": {}
  },
  {
   "cell_type": "code",
   "execution_count": 94,
   "source": [
    "for idx in range(30, 40):\n",
    "    print(train_df['sentence'].iloc[idx])\n",
    "    print(change_random_word(train_df['sentence'].iloc[idx], min_changes=1, max_changes=2, tokenizer=tokenizer))"
   ],
   "outputs": [
    {
     "output_type": "stream",
     "name": "stdout",
     "text": [
      "미국 정부는 1942년 2월 24일 전 세계의 청취자를 대상으로 태평양 전쟁의 전쟁상황을 알리기 위한 방송인 미국의 소리(VOA, Voice of America)를 개국하였다.\n",
      "미국 정부는 1942년 2월 24일 전 세계의 음량자를 대상으로 태평양 전쟁의 전쟁상황을 알리기 위한 방송인 미국의 소리(VOA, Voice of America)를 개국하였다.\n",
      "이어 “향후 우리 창업벤처기업들이 세계가 주목하는 줌(Zoom)과 페이스북(Facebook)과 같은 글로벌 플랫폼 기업으로 성장하도록 지원하고 대한민국이 ‘벤처 4대강국’으로 자리매김하도록 최선을 다할 계획”이라고 밝혔다.\n",
      "이어 “향후 우리 창업벤처기업들이 세계가 주목하는 줌(Zoom)과 페이스북(Facebook)과 같은 글로벌 플랫폼 기업으로 성장하도록 제공하고 경제이 ‘벤처 4대강국’으로 자리매김하도록 최선을 다할 계획”이라고 밝혔다.\n",
      "양당이 모두 해체한 뒤 신당을 창당하는 것이 아닌 유신당이 해체 뒤 기존의 민주당에 합류하는 방식이기 때문에, 옛 모두의 당 시절 비례대표로 선출되어 두레당을 거쳐 유신당에 합류했던 참의원 의원 5명(오노 지로, 가와다 류헤이, 시바타 다쿠미, 데라타 스케시로, 마야마 유이치)은 국회법 제109조의 2의 규정에 의해 신당에 입당할 경우 의원직이 자동 박탈되기 때문에 유신당 해체와 함께 임기 만료 전까지 무소속 신분을 유지하게 되었다.\n",
      "양당이 모두 해체한 뒤 신당을 창당하는 것이 아닌 유신당이 해체 뒤 기존의 민주당에 합류하는 방식이기 때문에, 옛 모두의 당 시절 비례대표로 선출되어 두레당을 거쳐 유신당에 합류했던 참의원 의원 5명(오노 지로, 가와다 류헤이, 시담맘 간, 데라타 스케시로, 마야마 유이치)은 국회법 제109조의 2의 규정에 의해 신당에 입당할 경우 의원직이 자동 박탈되기 때문에 유신당 해체와 함께 임기 만료 전까지 무소속 신분을 유지하게 되었다.\n",
      "채리나는 이후 박용근을 생명의 은인으로 여기고 교제하다가 2016년 11월에 결혼하였다.\n",
      "채리나는 직후 박용근을 영혼의 은인으로 여기고 교제하다가 2016년 11월에 결혼하였다.\n",
      "이로써 아버지인 카를레스와 아들인 세르히오 부스케츠는 레알 마드리드의 마누엘 산치스 부자와 AC 밀란의 말디니 부자에 이어 3번째로 같은 팀에 유럽 정상에 오른 부자로 기록되었다.\n",
      "이로써 아버지인 카를레스와 아들인 세르히오 부스케츠는 레알 마드리드의 타엘 산치스 부자와 AC 밀란의 말디니 부자에 이어 3번째로 같은 팀에 유럽 정상에 오른 부자로 기록되었다.\n",
      "로버트 조지 (바비) 실(Robert George (Bobby)(Bobby) Seale, 1936년 10월 22일 ~ )은 아프리카계 미국인 인권 운동가이자, 휴이 뉴튼과 함께 흑표당의 창립자이다.\n",
      "로버트 조지 (바비) 실(Robert George (Bobby)(Bobby) Seale, 1936년 10월 22일 ~ )은 아프리카계 캐나다인 인권 근력가이자, 휴이 뉴튼과 함께 흑표당의 창립자이다.\n",
      "곡성군(군수 유근기)은 상수도 사용 가구를 대상으로 올해부터 옥내 급수관 누수탐사 서비스를 연중 제공한다고 밝혔다.\n",
      "곡성군(군수 유근기)은 상수도 사용 가구를 대상으로 올해부터 옥외 급수관 누수탐사 서비스를 연중 제공한다고 밝혔다.\n",
      "김성수의 누이동생 김점효와 결혼하였으며 경성방직(1970년 경방으로 사명 변경)의 4대 사장으로 1946년 취임해 1975년 명예회장으로 경영일선에서 물러날 때까지 경방의 경영을 이끌었으며 전국경제인연합회 회장을 6차례 지냈다.\n",
      "김성수의 누이동생 유효와 결혼하였으며 경성방직(1970년 경방으로 사명 변경)의 4대 전무으로 1946년 취임해 1975년 명예회장으로 경영일선에서 물러날 때까지 경방의 경영을 이끌었으며 전국경제인연합회 회장을 6차례 지냈다.\n",
      "광주국악상설공연이 세계수영선수권대회 기간동안 연이어 매진을 기록하며 광주 대표 문화관광 콘텐츠로 큰 호응을 받고 있는 가운데 국악인 박애리가 호남의 판소리를 전 세계에 알린다.\n",
      "광주국악상설공연이 세둘레길선수권대회 기간동안 연이어 매진을 기록하며 광주 대표 문화관광 콘텐츠로 큰 호응을 받고 있는 가운데 국악인 박애리가 호남의 판소리를 전 세계에 알린다.\n",
      "앞서 구혜선은 안재현이 소속사인 HB엔터테인먼트의 문보미 대표와 자신을 험담했다고 주장한 바 있다.\n",
      "앞서 구혜선은 안재현이 소속사인 HB엔터테인먼트의 문보미 대표와 자기을 험담했다고 주장한 바 있다.\n"
     ]
    }
   ],
   "metadata": {}
  },
  {
   "cell_type": "code",
   "execution_count": null,
   "source": [],
   "outputs": [],
   "metadata": {}
  }
 ],
 "metadata": {
  "orig_nbformat": 4,
  "language_info": {
   "name": "python",
   "version": "3.8.5",
   "mimetype": "text/x-python",
   "codemirror_mode": {
    "name": "ipython",
    "version": 3
   },
   "pygments_lexer": "ipython3",
   "nbconvert_exporter": "python",
   "file_extension": ".py"
  },
  "kernelspec": {
   "name": "python3",
   "display_name": "Python 3.8.5 64-bit ('base': conda)"
  },
  "interpreter": {
   "hash": "98b0a9b7b4eaaa670588a142fd0a9b87eaafe866f1db4228be72b4211d12040f"
  }
 },
 "nbformat": 4,
 "nbformat_minor": 2
}