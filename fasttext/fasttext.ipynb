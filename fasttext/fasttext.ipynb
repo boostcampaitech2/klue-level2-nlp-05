{
 "cells": [
  {
   "cell_type": "code",
   "execution_count": 8,
   "source": [
    "import fasttext\n",
    "import fasttext.util\n",
    "\n",
    "from gensim import models"
   ],
   "outputs": [],
   "metadata": {}
  },
  {
   "cell_type": "markdown",
   "source": [
    "To install `pip install fasttext`,\n",
    "\n",
    "first run `apt-get install build-essential -y`!\n",
    "\n",
    "Before running this ipynb notebook,\n",
    "\n",
    "first run `python download_fasttext.py`."
   ],
   "metadata": {}
  },
  {
   "cell_type": "code",
   "execution_count": 9,
   "source": [
    "ft = fasttext.load_model('../cc.ko.100.bin')"
   ],
   "outputs": [
    {
     "output_type": "stream",
     "name": "stderr",
     "text": [
      "Warning : `load_model` does not return WordVectorModel or SupervisedModel any more, but a `FastText` object which is very similar.\n"
     ]
    }
   ],
   "metadata": {}
  },
  {
   "cell_type": "code",
   "execution_count": 6,
   "source": [
    "fasttext.util.reduce_model(ft, 100)\n",
    "ft.get_dimension()"
   ],
   "outputs": [
    {
     "output_type": "execute_result",
     "data": {
      "text/plain": [
       "100"
      ]
     },
     "metadata": {},
     "execution_count": 6
    }
   ],
   "metadata": {}
  },
  {
   "cell_type": "code",
   "execution_count": 7,
   "source": [
    "ft.save_model('../cc.ko.100.bin')"
   ],
   "outputs": [],
   "metadata": {}
  },
  {
   "cell_type": "code",
   "execution_count": 10,
   "source": [
    "results = ft.get_nearest_neighbors(\"파이썬\", k=10)\n",
    "for d, w in results:\n",
    "    print(\"%.3f: %s\" % (d, w))"
   ],
   "outputs": [
    {
     "output_type": "stream",
     "name": "stdout",
     "text": [
      "0.750: 자바스크립트\n",
      "0.724: 프로그래밍\n",
      "0.716: 텐서플로우\n",
      "0.714: 레일스\n",
      "0.701: 제이쿼리\n",
      "0.689: Python\n",
      "0.679: 정규표현식\n",
      "0.674: 파이선\n",
      "0.672: 리눅스\n",
      "0.671: 파이썬을\n"
     ]
    }
   ],
   "metadata": {}
  },
  {
   "cell_type": "code",
   "execution_count": 11,
   "source": [
    "results = ft.get_nearest_neighbors(\"게임\", k=10)\n",
    "for d, w in results:\n",
    "    print(\"%.3f: %s\" % (d, w))"
   ],
   "outputs": [
    {
     "output_type": "stream",
     "name": "stdout",
     "text": [
      "0.762: 슈팅\n",
      "0.725: 만화\n",
      "0.723: 콘솔\n",
      "0.721: VR\n",
      "0.711: 위쳐\n",
      "0.711: 농구\n",
      "0.709: 라테일\n",
      "0.708: 장르\n",
      "0.708: 건슈팅\n",
      "0.706: 턴제\n"
     ]
    }
   ],
   "metadata": {}
  },
  {
   "cell_type": "code",
   "execution_count": 12,
   "source": [
    "results = ft.get_nearest_neighbors(\"이순신\", k=10)\n",
    "for d, w in results:\n",
    "    print(\"%.3f: %s\" % (d, w))"
   ],
   "outputs": [
    {
     "output_type": "stream",
     "name": "stdout",
     "text": [
      "0.757: 이순신장군\n",
      "0.713: 김시민\n",
      "0.702: 곽재우\n",
      "0.698: 행주대첩\n",
      "0.695: 충무공\n",
      "0.686: 이순신과\n",
      "0.685: 이순신장군의\n",
      "0.683: 이여송\n",
      "0.677: 李純信\n",
      "0.676: 율곡이이\n"
     ]
    }
   ],
   "metadata": {}
  },
  {
   "cell_type": "code",
   "execution_count": 13,
   "source": [
    "results = ft.get_nearest_neighbors(\"과학\", k=10)\n",
    "for d, w in results:\n",
    "    print(\"%.3f: %s\" % (d, w))"
   ],
   "outputs": [
    {
     "output_type": "stream",
     "name": "stdout",
     "text": [
      "0.795: 의학\n",
      "0.782: 수학\n",
      "0.778: 공학\n",
      "0.769: 학문\n",
      "0.750: 철학\n",
      "0.726: 물리\n",
      "0.726: 科學\n",
      "0.719: 학술\n",
      "0.717: 교육\n",
      "0.711: 인문\n"
     ]
    }
   ],
   "metadata": {}
  },
  {
   "cell_type": "code",
   "execution_count": 13,
   "source": [
    "def get_nearest_word_vectors(query_word: str, k: int = 10):\n",
    "    results = ft.get_nearest_neighbors(query_word, k)\n",
    "    word = [query_word]\n",
    "    similarity = [1]\n",
    "    word_vectors = [ft.get_word_vector(query_word)]\n",
    "    for d, w in results:\n",
    "        word.append(w)\n",
    "        similarity.append(d)\n",
    "        word_vectors.append(ft.get_word_vector(w))\n",
    "    return {'word': word,\n",
    "            'similarity': similarity,\n",
    "            'word_vectors': word_vectors}\n"
   ],
   "outputs": [],
   "metadata": {}
  },
  {
   "cell_type": "code",
   "execution_count": 54,
   "source": [
    "import numpy as np\n",
    "import pandas as pd\n",
    "\n",
    "from sklearn.decomposition import PCA, TruncatedSVD\n",
    "from sklearn.manifold import TSNE\n",
    "\n",
    "import matplotlib as mpl\n",
    "import matplotlib.pyplot as plt\n",
    "from mpl_toolkits.mplot3d import Axes3D\n",
    "\n",
    "import seaborn as sns\n",
    "\n",
    "mpl.rcParams['axes.unicode_minus'] = False\n",
    "plt.rcParams[\"font.family\"] = 'NanumGothic'"
   ],
   "outputs": [],
   "metadata": {}
  },
  {
   "cell_type": "code",
   "execution_count": 75,
   "source": [
    "results = get_nearest_word_vectors(\"애플\", k=20)"
   ],
   "outputs": [],
   "metadata": {}
  },
  {
   "cell_type": "code",
   "execution_count": 76,
   "source": [
    "pca = PCA(n_components=3)\n",
    "pca_result = pca.fit_transform(results[\"word_vectors\"])"
   ],
   "outputs": [],
   "metadata": {}
  },
  {
   "cell_type": "code",
   "execution_count": 77,
   "source": [
    "svd = TruncatedSVD(n_components=3)\n",
    "svd_result = svd.fit_transform(results[\"word_vectors\"])"
   ],
   "outputs": [],
   "metadata": {}
  },
  {
   "cell_type": "code",
   "execution_count": 79,
   "source": [
    "print(pca.explained_variance_ratio_)\n",
    "print(svd.explained_variance_ratio_)"
   ],
   "outputs": [
    {
     "output_type": "stream",
     "name": "stdout",
     "text": [
      "[0.21812107 0.13263512 0.09805022]\n",
      "[0.20108709 0.13291039 0.09813897]\n"
     ]
    }
   ],
   "metadata": {}
  },
  {
   "cell_type": "markdown",
   "source": [
    "```\n",
    "apt-get install fonts-nanum*\n",
    "apt-get install fontconfig\n",
    "rm -rf ~/.cache/matplotlib/*\n",
    "```"
   ],
   "metadata": {}
  },
  {
   "cell_type": "code",
   "execution_count": 80,
   "source": [
    "ax1, ax2 = 0, 1\n",
    "\n",
    "plt.scatter(x=pca_result[:, ax1], y=pca_result[:, ax2], \n",
    "    c=['red' if i == 0 else 'blue' for i in range(len(pca_result))])\n",
    "for x, y, s in zip(pca_result[:, ax1]+0.01, pca_result[:, ax2]+0.01, results[\"word\"]):\n",
    "    plt.text(x, y, s)"
   ],
   "outputs": [
    {
     "output_type": "display_data",
     "data": {
      "image/png": "[encoded data removed]",
      "text/plain": [
       "<Figure size 432x288 with 1 Axes>"
      ]
     },
     "metadata": {
      "needs_background": "light"
     }
    }
   ],
   "metadata": {}
  },
  {
   "cell_type": "code",
   "execution_count": 81,
   "source": [
    "ax1, ax2 = 0, 1\n",
    "\n",
    "plt.scatter(x=svd_result[:, ax1], y=svd_result[:, ax2], \n",
    "    c=['red' if i == 0 else 'blue' for i in range(len(svd_result))])\n",
    "for x, y, s in zip(svd_result[:, ax1]+0.01, svd_result[:, ax2]+0.01, results[\"word\"]):\n",
    "    plt.text(x, y, s)"
   ],
   "outputs": [
    {
     "output_type": "display_data",
     "data": {
      "image/png": "[encoded data removed]",
      "text/plain": [
       "<Figure size 432x288 with 1 Axes>"
      ]
     },
     "metadata": {
      "needs_background": "light"
     }
    }
   ],
   "metadata": {}
  },
  {
   "cell_type": "code",
   "execution_count": 82,
   "source": [
    "ax1, ax2 = np.argsort(svd.components_[0])[-1], np.argsort(svd.components_[0])[-2]\n",
    "\n",
    "xs = [results['word_vectors'][i][ax1] for i in range(len(results['word_vectors']))]\n",
    "ys = [results['word_vectors'][i][ax2] for i in range(len(results['word_vectors']))]\n",
    "\n",
    "plt.scatter(x=xs, y=ys, c=['red' if i == 0 else 'blue' for i in range(len(svd_result))])\n",
    "plt.xlabel(\"dim1:\" + str(ax1))\n",
    "plt.ylabel(\"dim2:\" + str(ax2))\n",
    "for x, y, s in zip(xs, ys, results[\"word\"]):\n",
    "    plt.text(x+0.01, y+0.01, s)"
   ],
   "outputs": [
    {
     "output_type": "display_data",
     "data": {
      "image/png": "[encoded data removed]",
      "text/plain": [
       "<Figure size 432x288 with 1 Axes>"
      ]
     },
     "metadata": {
      "needs_background": "light"
     }
    }
   ],
   "metadata": {}
  }
 ],
 "metadata": {
  "orig_nbformat": 4,
  "language_info": {
   "name": "python",
   "version": "3.8.5",
   "mimetype": "text/x-python",
   "codemirror_mode": {
    "name": "ipython",
    "version": 3
   },
   "pygments_lexer": "ipython3",
   "nbconvert_exporter": "python",
   "file_extension": ".py"
  },
  "kernelspec": {
   "name": "python3",
   "display_name": "Python 3.8.5 64-bit ('base': conda)"
  },
  "interpreter": {
   "hash": "98b0a9b7b4eaaa670588a142fd0a9b87eaafe866f1db4228be72b4211d12040f"
  }
 },
 "nbformat": 4,
 "nbformat_minor": 2
}