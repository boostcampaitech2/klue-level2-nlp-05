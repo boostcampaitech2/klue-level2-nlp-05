{
 "cells": [
  {
   "cell_type": "markdown",
   "id": "970493f2-c6a4-4333-9858-0e40a3ac88b0",
   "metadata": {},
   "source": [
    "# 2. 시퀀스에 Entity 정보 추가"
   ]
  },
  {
   "cell_type": "markdown",
   "id": "223d4130-58bd-4a53-b7f2-66d67c37571e",
   "metadata": {},
   "source": [
    "<br>\n",
    "\n",
    "## 2.1 라이브러리 import"
   ]
  },
  {
   "cell_type": "code",
   "execution_count": 31,
   "id": "b78ef7bc-485e-4684-a089-411d5929ab8f",
   "metadata": {},
   "outputs": [],
   "source": [
    "from tqdm import tqdm\n",
    "from load_data import *\n",
    "import pandas as pd\n",
    "from transformers import AutoTokenizer, AutoModel\n",
    "\n",
    "MODEL_NAME = 'klue/bert-base'"
   ]
  },
  {
   "cell_type": "markdown",
   "id": "3de68e5a-b766-49f7-a5b3-e138ee52577c",
   "metadata": {},
   "source": [
    "<br>\n",
    "\n",
    "## 2.2 데이터 불러오기"
   ]
  },
  {
   "cell_type": "code",
   "execution_count": 2,
   "id": "03a2e443-861a-4dc7-8db1-8c95fa68e8c9",
   "metadata": {},
   "outputs": [
    {
     "name": "stderr",
     "output_type": "stream",
     "text": [
      "100%|██████████| 32470/32470 [00:04<00:00, 6519.20it/s]\n"
     ]
    },
    {
     "data": {
      "text/html": [
       "<div>\n",
       "<style scoped>\n",
       "    .dataframe tbody tr th:only-of-type {\n",
       "        vertical-align: middle;\n",
       "    }\n",
       "\n",
       "    .dataframe tbody tr th {\n",
       "        vertical-align: top;\n",
       "    }\n",
       "\n",
       "    .dataframe thead th {\n",
       "        text-align: right;\n",
       "    }\n",
       "</style>\n",
       "<table border=\"1\" class=\"dataframe\">\n",
       "  <thead>\n",
       "    <tr style=\"text-align: right;\">\n",
       "      <th></th>\n",
       "      <th>id</th>\n",
       "      <th>sentence</th>\n",
       "      <th>sentence_length</th>\n",
       "      <th>subject_entity_word</th>\n",
       "      <th>subject_entity_start_idx</th>\n",
       "      <th>subject_entity_end_idx</th>\n",
       "      <th>subject_entity_type</th>\n",
       "      <th>object_entity_word</th>\n",
       "      <th>object_entity_start_idx</th>\n",
       "      <th>object_entity_end_idx</th>\n",
       "      <th>object_entity_type</th>\n",
       "      <th>label</th>\n",
       "      <th>source</th>\n",
       "    </tr>\n",
       "  </thead>\n",
       "  <tbody>\n",
       "    <tr>\n",
       "      <th>0</th>\n",
       "      <td>0</td>\n",
       "      <td>〈Something〉는 조지 해리슨이 쓰고 비틀즈가 1969년 앨범 《Abbey R...</td>\n",
       "      <td>59</td>\n",
       "      <td>비틀즈</td>\n",
       "      <td>24</td>\n",
       "      <td>26</td>\n",
       "      <td>ORG</td>\n",
       "      <td>조지 해리슨</td>\n",
       "      <td>13</td>\n",
       "      <td>18</td>\n",
       "      <td>PER</td>\n",
       "      <td>no_relation</td>\n",
       "      <td>wikipedia</td>\n",
       "    </tr>\n",
       "    <tr>\n",
       "      <th>1</th>\n",
       "      <td>1</td>\n",
       "      <td>호남이 기반인 바른미래당·대안신당·민주평화당이 우여곡절 끝에 합당해 민생당(가칭)으...</td>\n",
       "      <td>54</td>\n",
       "      <td>민주평화당</td>\n",
       "      <td>19</td>\n",
       "      <td>23</td>\n",
       "      <td>ORG</td>\n",
       "      <td>대안신당</td>\n",
       "      <td>14</td>\n",
       "      <td>17</td>\n",
       "      <td>ORG</td>\n",
       "      <td>no_relation</td>\n",
       "      <td>wikitree</td>\n",
       "    </tr>\n",
       "    <tr>\n",
       "      <th>2</th>\n",
       "      <td>2</td>\n",
       "      <td>K리그2에서 성적 1위를 달리고 있는 광주FC는 지난 26일 한국프로축구연맹으로부터...</td>\n",
       "      <td>99</td>\n",
       "      <td>광주FC</td>\n",
       "      <td>21</td>\n",
       "      <td>24</td>\n",
       "      <td>ORG</td>\n",
       "      <td>한국프로축구연맹</td>\n",
       "      <td>34</td>\n",
       "      <td>41</td>\n",
       "      <td>ORG</td>\n",
       "      <td>org:member_of</td>\n",
       "      <td>wikitree</td>\n",
       "    </tr>\n",
       "    <tr>\n",
       "      <th>3</th>\n",
       "      <td>3</td>\n",
       "      <td>균일가 생활용품점 (주)아성다이소(대표 박정부)는 코로나19 바이러스로 어려움을 겪...</td>\n",
       "      <td>78</td>\n",
       "      <td>아성다이소</td>\n",
       "      <td>13</td>\n",
       "      <td>17</td>\n",
       "      <td>ORG</td>\n",
       "      <td>박정부</td>\n",
       "      <td>22</td>\n",
       "      <td>24</td>\n",
       "      <td>PER</td>\n",
       "      <td>org:top_members/employees</td>\n",
       "      <td>wikitree</td>\n",
       "    </tr>\n",
       "    <tr>\n",
       "      <th>4</th>\n",
       "      <td>4</td>\n",
       "      <td>1967년 프로 야구 드래프트 1순위로 요미우리 자이언츠에게 입단하면서 등번호는 8...</td>\n",
       "      <td>56</td>\n",
       "      <td>요미우리 자이언츠</td>\n",
       "      <td>22</td>\n",
       "      <td>30</td>\n",
       "      <td>ORG</td>\n",
       "      <td>1967</td>\n",
       "      <td>0</td>\n",
       "      <td>3</td>\n",
       "      <td>DAT</td>\n",
       "      <td>no_relation</td>\n",
       "      <td>wikipedia</td>\n",
       "    </tr>\n",
       "  </tbody>\n",
       "</table>\n",
       "</div>"
      ],
      "text/plain": [
       "   id                                           sentence  sentence_length  \\\n",
       "0   0  〈Something〉는 조지 해리슨이 쓰고 비틀즈가 1969년 앨범 《Abbey R...               59   \n",
       "1   1  호남이 기반인 바른미래당·대안신당·민주평화당이 우여곡절 끝에 합당해 민생당(가칭)으...               54   \n",
       "2   2  K리그2에서 성적 1위를 달리고 있는 광주FC는 지난 26일 한국프로축구연맹으로부터...               99   \n",
       "3   3  균일가 생활용품점 (주)아성다이소(대표 박정부)는 코로나19 바이러스로 어려움을 겪...               78   \n",
       "4   4  1967년 프로 야구 드래프트 1순위로 요미우리 자이언츠에게 입단하면서 등번호는 8...               56   \n",
       "\n",
       "  subject_entity_word  subject_entity_start_idx  subject_entity_end_idx  \\\n",
       "0                 비틀즈                        24                      26   \n",
       "1               민주평화당                        19                      23   \n",
       "2                광주FC                        21                      24   \n",
       "3               아성다이소                        13                      17   \n",
       "4           요미우리 자이언츠                        22                      30   \n",
       "\n",
       "  subject_entity_type object_entity_word  object_entity_start_idx  \\\n",
       "0                 ORG             조지 해리슨                       13   \n",
       "1                 ORG               대안신당                       14   \n",
       "2                 ORG           한국프로축구연맹                       34   \n",
       "3                 ORG                박정부                       22   \n",
       "4                 ORG               1967                        0   \n",
       "\n",
       "   object_entity_end_idx object_entity_type                      label  \\\n",
       "0                     18                PER                no_relation   \n",
       "1                     17                ORG                no_relation   \n",
       "2                     41                ORG              org:member_of   \n",
       "3                     24                PER  org:top_members/employees   \n",
       "4                      3                DAT                no_relation   \n",
       "\n",
       "      source  \n",
       "0  wikipedia  \n",
       "1   wikitree  \n",
       "2   wikitree  \n",
       "3   wikitree  \n",
       "4  wikipedia  "
      ]
     },
     "execution_count": 2,
     "metadata": {},
     "output_type": "execute_result"
    }
   ],
   "source": [
    "df = load_new_train_data()\n",
    "df.head()"
   ]
  },
  {
   "cell_type": "markdown",
   "id": "08f679f0-c01d-40f6-8aa6-a6e16f11e4fe",
   "metadata": {},
   "source": [
    "<br>\n",
    "\n",
    "## 2.4 학습 데이터 토크나이징 (baseline 방법)"
   ]
  },
  {
   "cell_type": "markdown",
   "id": "502536ea-b86c-4bef-92eb-758b9ec74ddf",
   "metadata": {},
   "source": [
    "### 2.4.1 토크나이저 객체 생성"
   ]
  },
  {
   "cell_type": "code",
   "execution_count": 3,
   "id": "2b11478f-0c1a-47bd-9a1c-93089596bdaf",
   "metadata": {},
   "outputs": [],
   "source": [
    "tokenizer = AutoTokenizer.from_pretrained(MODEL_NAME)"
   ]
  },
  {
   "cell_type": "markdown",
   "id": "4e7ed462-a6bb-4298-a721-f681bee8e2bb",
   "metadata": {},
   "source": [
    "<br>\n",
    "\n",
    "### 2.4.2 테크나이즈된 데이터 생성"
   ]
  },
  {
   "cell_type": "code",
   "execution_count": 4,
   "id": "2dcb9a2a-b3e5-4060-879f-7d025ada99e3",
   "metadata": {},
   "outputs": [],
   "source": [
    "dataset = df.copy()\n",
    "\n",
    "concat_entity = []\n",
    "\n",
    "for e01, e02 in zip(dataset['subject_entity_word'], dataset['object_entity_word']):\n",
    "    temp = e01 + '[SEP]' + e02\n",
    "    concat_entity.append(temp)\n",
    "    \n",
    "tokenized_sentences = tokenizer(\n",
    "    concat_entity,\n",
    "    list(dataset['sentence']),\n",
    "    return_tensors='pt',\n",
    "    padding=True,\n",
    "    truncation=True,\n",
    "    max_length=256,\n",
    "    add_special_tokens=True\n",
    ")"
   ]
  },
  {
   "cell_type": "code",
   "execution_count": 5,
   "id": "f5c39c6a-1574-462c-81e9-120a4c1a7f6c",
   "metadata": {},
   "outputs": [
    {
     "data": {
      "text/plain": [
       "dict_keys(['input_ids', 'token_type_ids', 'attention_mask'])"
      ]
     },
     "execution_count": 5,
     "metadata": {},
     "output_type": "execute_result"
    }
   ],
   "source": [
    "tokenized_sentences.keys()"
   ]
  },
  {
   "cell_type": "markdown",
   "id": "aace11fc-640a-42de-a415-5a2951aaa7b4",
   "metadata": {},
   "source": [
    "<br>\n",
    "\n",
    "### 2.4.3 샘플 확인"
   ]
  },
  {
   "cell_type": "code",
   "execution_count": 6,
   "id": "acf98d33-57b5-49dc-9740-88b31f35d65d",
   "metadata": {},
   "outputs": [
    {
     "data": {
      "text/plain": [
       "tensor([    2, 29830,     3,  8373, 14113,  2234,     3,   168, 30985, 14451,\n",
       "         7088,  4586,   169,   793,  8373, 14113,  2234,  2052,  1363,  2088,\n",
       "        29830,  2116, 14879,  2440,  6711,   170, 21406, 26713,  2076, 25145,\n",
       "         5749,   171,  1421,   818,  2073,  4388,  2062,    18,     3,     0,\n",
       "            0,     0,     0,     0,     0,     0,     0,     0,     0,     0,\n",
       "            0,     0,     0,     0,     0,     0,     0,     0,     0,     0,\n",
       "            0,     0,     0,     0,     0,     0,     0,     0,     0,     0,\n",
       "            0,     0,     0,     0,     0,     0,     0,     0,     0,     0,\n",
       "            0,     0,     0,     0,     0,     0,     0,     0,     0,     0,\n",
       "            0,     0,     0,     0,     0,     0,     0,     0,     0,     0,\n",
       "            0,     0,     0,     0,     0,     0,     0,     0,     0,     0,\n",
       "            0,     0,     0,     0,     0,     0,     0,     0,     0,     0,\n",
       "            0,     0,     0,     0,     0,     0,     0,     0,     0,     0,\n",
       "            0,     0,     0,     0,     0,     0,     0,     0,     0,     0,\n",
       "            0,     0,     0,     0,     0,     0,     0,     0,     0,     0,\n",
       "            0,     0,     0,     0,     0,     0,     0,     0,     0,     0,\n",
       "            0,     0,     0,     0,     0,     0,     0,     0,     0,     0,\n",
       "            0,     0,     0,     0,     0,     0,     0,     0,     0,     0,\n",
       "            0,     0,     0,     0,     0,     0,     0,     0,     0,     0,\n",
       "            0,     0,     0,     0,     0,     0,     0,     0,     0,     0,\n",
       "            0,     0,     0,     0,     0,     0,     0,     0,     0,     0,\n",
       "            0,     0,     0,     0,     0,     0,     0,     0,     0,     0,\n",
       "            0,     0,     0,     0,     0,     0,     0,     0,     0,     0,\n",
       "            0,     0,     0,     0,     0,     0,     0])"
      ]
     },
     "execution_count": 6,
     "metadata": {},
     "output_type": "execute_result"
    }
   ],
   "source": [
    "sample_ids = tokenized_sentences['input_ids'][0]\n",
    "sample_ids"
   ]
  },
  {
   "cell_type": "code",
   "execution_count": 7,
   "id": "e5f3f2e1-df36-4058-bea6-ddc3cd0453a3",
   "metadata": {},
   "outputs": [
    {
     "name": "stdout",
     "output_type": "stream",
     "text": [
      "['[CLS]', '비틀즈', '[SEP]', '조지', '해리', '##슨', '[SEP]', '〈', 'So', '##me', '##th', '##ing', '〉', '는', '조지', '해리', '##슨', '##이', '쓰', '##고', '비틀즈', '##가', '1969', '##년', '앨범', '《', 'Ab', '##be', '##y', 'Ro', '##ad', '》', '에', '담', '##은', '노래', '##다', '.', '[SEP]']\n"
     ]
    }
   ],
   "source": [
    "sample_tokens = tokenizer.convert_ids_to_tokens(sample_ids)\n",
    "sample_tokens = [token for token in sample_tokens if token != '[PAD]']\n",
    "print(sample_tokens)"
   ]
  },
  {
   "cell_type": "code",
   "execution_count": 8,
   "id": "0f023245-3def-48e5-bdfb-9440a5117987",
   "metadata": {},
   "outputs": [
    {
     "data": {
      "text/plain": [
       "'〈Something〉는 조지 해리슨이 쓰고 비틀즈가 1969년 앨범 《Abbey Road》에 담은 노래다.'"
      ]
     },
     "execution_count": 8,
     "metadata": {},
     "output_type": "execute_result"
    }
   ],
   "source": [
    "dataset.loc[0, 'sentence']"
   ]
  },
  {
   "cell_type": "markdown",
   "id": "8ecee487-888f-4b4a-8e7d-8e3f1efcbf86",
   "metadata": {},
   "source": [
    "<br>\n",
    "\n",
    "## 2.5 학습 데이터 토크나이징 (Entity 정보 포함시키기)"
   ]
  },
  {
   "cell_type": "markdown",
   "id": "0416d986-45a8-4b63-b2dc-e64848e9630f",
   "metadata": {},
   "source": [
    "### 2.5.1 토크나이저 객체 생성"
   ]
  },
  {
   "cell_type": "code",
   "execution_count": 9,
   "id": "262e5af9-8038-4be8-b552-ece8af9a78f5",
   "metadata": {},
   "outputs": [],
   "source": [
    "tokenizer = AutoTokenizer.from_pretrained(MODEL_NAME)"
   ]
  },
  {
   "cell_type": "markdown",
   "id": "7edf42c8-e8b7-46ba-9d33-7c9fee6dd3b3",
   "metadata": {},
   "source": [
    "<br>\n",
    "\n",
    "### 2.5.2 Entity Special Token - Typed entity marker\n",
    "\n",
    "- Entity Special Token 종류 중 BERT base에서 가장 좋은 성능을 나타낸 **Typed entity marker** 방법을 사용한다.\n",
    "\n",
    "&nbsp;&nbsp;&nbsp;&nbsp;&nbsp;\n",
    "<img src='https://drive.google.com/uc?id=1V_dVztR_mQDHsmwsP4P0Qith7hRU1vmz' width=800/>"
   ]
  },
  {
   "cell_type": "markdown",
   "id": "c60460a9-f325-4d9a-8c9c-b35b5d64f60e",
   "metadata": {},
   "source": [
    "<br>\n",
    "\n",
    "### 2.5.3 스페셜 토큰 및 문장 생성 함수 정의"
   ]
  },
  {
   "cell_type": "code",
   "execution_count": 41,
   "id": "ba7e5979-356e-43e2-b710-c62f363f3ff8",
   "metadata": {},
   "outputs": [],
   "source": [
    "dataset = df.copy()"
   ]
  },
  {
   "cell_type": "code",
   "execution_count": 42,
   "id": "504e6a72-4682-4343-80bf-e84f56da9dab",
   "metadata": {},
   "outputs": [],
   "source": [
    "def get_entity_special_token_dataset(dataset):\n",
    "    entity_special_tokens = []\n",
    "    entity_sentences = []\n",
    "    subject_entity_start_tokens = []\n",
    "    subject_entity_end_tokens = []\n",
    "    object_entity_start_tokens = []\n",
    "    object_entity_end_tokens = []\n",
    "    \n",
    "\n",
    "    for i, row in tqdm(dataset.iterrows(), total=dataset.shape[0]):\n",
    "    #for i, row in dataset.iterrows():\n",
    "#         print('-'*100)\n",
    "        # entity 객체 생성\n",
    "        s_entity = {\n",
    "            'prefix': 'S',\n",
    "            'word': row['subject_entity_word'],\n",
    "            's_idx': row['subject_entity_start_idx'],\n",
    "            'e_idx': row['subject_entity_end_idx'],\n",
    "            'type': row['subject_entity_type']\n",
    "        }\n",
    "        o_entity = {\n",
    "            'prefix': 'O',\n",
    "            'word': row['object_entity_word'],\n",
    "            's_idx': row['object_entity_start_idx'],\n",
    "            'e_idx': row['object_entity_end_idx'],\n",
    "            'type': row['object_entity_type']\n",
    "        }\n",
    "\n",
    "        # start_index가 더 큰 entity 먼저 정렬\n",
    "        entities = sorted([s_entity, o_entity], key=lambda item: item['s_idx'], reverse=True)\n",
    "\n",
    "        # entity 스페셜 토큰 생성\n",
    "        special_tokens = []\n",
    "        for entity in entities:\n",
    "            s_token = f\"[{entity['prefix']}:{entity['type']}]\"\n",
    "            e_token = f\"[/{entity['prefix']}:{entity['type']}]\"\n",
    "            \n",
    "            entity['s_token'] = s_token\n",
    "            entity['e_token'] = e_token\n",
    "            \n",
    "            if entity['prefix'] == 'S':\n",
    "                subject_entity_start_tokens.append(s_token)\n",
    "                subject_entity_end_tokens.append(e_token)\n",
    "            else:\n",
    "                object_entity_start_tokens.append(s_token)\n",
    "                object_entity_end_tokens.append(e_token)\n",
    "            \n",
    "            special_tokens.extend([s_token, e_token])\n",
    "\n",
    "        # 전체 스페셜 토큰 리스트에 추가\n",
    "        for special_token in special_tokens:\n",
    "            if special_token not in entity_special_tokens:\n",
    "                entity_special_tokens.append(special_token)\n",
    "\n",
    "#         print(f\"subject: {s_entity['word']}({s_entity['type']})\")\n",
    "#         print(f\"object: {o_entity['word']}({o_entity['type']})\")\n",
    "#         print()\n",
    "\n",
    "        sentence = row['sentence']\n",
    "#         print(sentence)\n",
    "\n",
    "        for entity in entities:\n",
    "            s_idx, e_idx = entity['s_idx'], entity['e_idx']\n",
    "            new_sentence = ''\n",
    "            new_sentence += sentence[:s_idx]\n",
    "            new_sentence += entity['s_token']\n",
    "            new_sentence += entity['word']\n",
    "            new_sentence += entity['e_token']\n",
    "            new_sentence += sentence[e_idx+1:]\n",
    "            sentence = new_sentence\n",
    "\n",
    "        entity_sentences.append(sentence)\n",
    "        \n",
    "#         print(sentence)\n",
    "#         print('-'*100)\n",
    "\n",
    "    dataset['sentence'] = entity_sentences\n",
    "    dataset['subject_entity_start_token'] = subject_entity_start_tokens\n",
    "    dataset['subject_entity_end_token'] = subject_entity_end_tokens\n",
    "    dataset['object_entity_start_token'] = object_entity_start_tokens\n",
    "    dataset['object_entity_end_token'] = object_entity_end_tokens    \n",
    "\n",
    "    return dataset, entity_special_tokens"
   ]
  },
  {
   "cell_type": "markdown",
   "id": "3b37f1f1-97cd-4ee1-811a-de5b328f65e0",
   "metadata": {},
   "source": [
    "<br>\n",
    "\n",
    "### 2.5.4 스페셜 토큰 획득 및 데이터프레임 확장"
   ]
  },
  {
   "cell_type": "code",
   "execution_count": 43,
   "id": "5d6ad5cc-769b-44f2-b1d6-d3475f75193d",
   "metadata": {},
   "outputs": [
    {
     "name": "stderr",
     "output_type": "stream",
     "text": [
      "100%|██████████| 32470/32470 [00:03<00:00, 8904.05it/s]\n"
     ]
    }
   ],
   "source": [
    "dataset, special_tokens = get_entity_special_token_dataset(dataset)"
   ]
  },
  {
   "cell_type": "code",
   "execution_count": 44,
   "id": "fe981e00-f0e8-4a4b-a500-ca71f6067684",
   "metadata": {},
   "outputs": [
    {
     "data": {
      "text/plain": [
       "['[S:ORG]',\n",
       " '[/S:ORG]',\n",
       " '[O:PER]',\n",
       " '[/O:PER]',\n",
       " '[O:ORG]',\n",
       " '[/O:ORG]',\n",
       " '[O:DAT]',\n",
       " '[/O:DAT]',\n",
       " '[S:PER]',\n",
       " '[/S:PER]',\n",
       " '[O:LOC]',\n",
       " '[/O:LOC]',\n",
       " '[O:POH]',\n",
       " '[/O:POH]',\n",
       " '[O:NOH]',\n",
       " '[/O:NOH]']"
      ]
     },
     "execution_count": 44,
     "metadata": {},
     "output_type": "execute_result"
    }
   ],
   "source": [
    "special_tokens"
   ]
  },
  {
   "cell_type": "code",
   "execution_count": 47,
   "id": "5b2df0bb-66fb-446a-9964-c0252198befd",
   "metadata": {},
   "outputs": [
    {
     "data": {
      "text/plain": [
       "True"
      ]
     },
     "execution_count": 47,
     "metadata": {},
     "output_type": "execute_result"
    }
   ],
   "source": [
    "len(special_tokens) == (len(dataset['subject_entity_type'].unique()) + len(dataset['object_entity_type'].unique()))*2"
   ]
  },
  {
   "cell_type": "code",
   "execution_count": 48,
   "id": "87b5acc0-2b30-417d-baf5-0c68750ba91b",
   "metadata": {},
   "outputs": [
    {
     "data": {
      "text/html": [
       "<div>\n",
       "<style scoped>\n",
       "    .dataframe tbody tr th:only-of-type {\n",
       "        vertical-align: middle;\n",
       "    }\n",
       "\n",
       "    .dataframe tbody tr th {\n",
       "        vertical-align: top;\n",
       "    }\n",
       "\n",
       "    .dataframe thead th {\n",
       "        text-align: right;\n",
       "    }\n",
       "</style>\n",
       "<table border=\"1\" class=\"dataframe\">\n",
       "  <thead>\n",
       "    <tr style=\"text-align: right;\">\n",
       "      <th></th>\n",
       "      <th>id</th>\n",
       "      <th>sentence</th>\n",
       "      <th>sentence_length</th>\n",
       "      <th>subject_entity_word</th>\n",
       "      <th>subject_entity_start_idx</th>\n",
       "      <th>subject_entity_end_idx</th>\n",
       "      <th>subject_entity_type</th>\n",
       "      <th>object_entity_word</th>\n",
       "      <th>object_entity_start_idx</th>\n",
       "      <th>object_entity_end_idx</th>\n",
       "      <th>object_entity_type</th>\n",
       "      <th>label</th>\n",
       "      <th>source</th>\n",
       "      <th>subject_entity_start_token</th>\n",
       "      <th>subject_entity_end_token</th>\n",
       "      <th>object_entity_start_token</th>\n",
       "      <th>object_entity_end_token</th>\n",
       "    </tr>\n",
       "  </thead>\n",
       "  <tbody>\n",
       "    <tr>\n",
       "      <th>0</th>\n",
       "      <td>0</td>\n",
       "      <td>〈Something〉는 [O:PER]조지 해리슨[/O:PER]이 쓰고 [S:ORG]...</td>\n",
       "      <td>59</td>\n",
       "      <td>비틀즈</td>\n",
       "      <td>24</td>\n",
       "      <td>26</td>\n",
       "      <td>ORG</td>\n",
       "      <td>조지 해리슨</td>\n",
       "      <td>13</td>\n",
       "      <td>18</td>\n",
       "      <td>PER</td>\n",
       "      <td>no_relation</td>\n",
       "      <td>wikipedia</td>\n",
       "      <td>[S:ORG]</td>\n",
       "      <td>[/S:ORG]</td>\n",
       "      <td>[O:PER]</td>\n",
       "      <td>[/O:PER]</td>\n",
       "    </tr>\n",
       "    <tr>\n",
       "      <th>1</th>\n",
       "      <td>1</td>\n",
       "      <td>호남이 기반인 바른미래당·[O:ORG]대안신당[/O:ORG]·[S:ORG]민주평화당...</td>\n",
       "      <td>54</td>\n",
       "      <td>민주평화당</td>\n",
       "      <td>19</td>\n",
       "      <td>23</td>\n",
       "      <td>ORG</td>\n",
       "      <td>대안신당</td>\n",
       "      <td>14</td>\n",
       "      <td>17</td>\n",
       "      <td>ORG</td>\n",
       "      <td>no_relation</td>\n",
       "      <td>wikitree</td>\n",
       "      <td>[S:ORG]</td>\n",
       "      <td>[/S:ORG]</td>\n",
       "      <td>[O:ORG]</td>\n",
       "      <td>[/O:ORG]</td>\n",
       "    </tr>\n",
       "    <tr>\n",
       "      <th>2</th>\n",
       "      <td>2</td>\n",
       "      <td>K리그2에서 성적 1위를 달리고 있는 [S:ORG]광주FC[/S:ORG]는 지난 2...</td>\n",
       "      <td>99</td>\n",
       "      <td>광주FC</td>\n",
       "      <td>21</td>\n",
       "      <td>24</td>\n",
       "      <td>ORG</td>\n",
       "      <td>한국프로축구연맹</td>\n",
       "      <td>34</td>\n",
       "      <td>41</td>\n",
       "      <td>ORG</td>\n",
       "      <td>org:member_of</td>\n",
       "      <td>wikitree</td>\n",
       "      <td>[S:ORG]</td>\n",
       "      <td>[/S:ORG]</td>\n",
       "      <td>[O:ORG]</td>\n",
       "      <td>[/O:ORG]</td>\n",
       "    </tr>\n",
       "    <tr>\n",
       "      <th>3</th>\n",
       "      <td>3</td>\n",
       "      <td>균일가 생활용품점 (주)[S:ORG]아성다이소[/S:ORG](대표 [O:PER]박정...</td>\n",
       "      <td>78</td>\n",
       "      <td>아성다이소</td>\n",
       "      <td>13</td>\n",
       "      <td>17</td>\n",
       "      <td>ORG</td>\n",
       "      <td>박정부</td>\n",
       "      <td>22</td>\n",
       "      <td>24</td>\n",
       "      <td>PER</td>\n",
       "      <td>org:top_members/employees</td>\n",
       "      <td>wikitree</td>\n",
       "      <td>[S:ORG]</td>\n",
       "      <td>[/S:ORG]</td>\n",
       "      <td>[O:PER]</td>\n",
       "      <td>[/O:PER]</td>\n",
       "    </tr>\n",
       "    <tr>\n",
       "      <th>4</th>\n",
       "      <td>4</td>\n",
       "      <td>[O:DAT]1967[/O:DAT]년 프로 야구 드래프트 1순위로 [S:ORG]요미...</td>\n",
       "      <td>56</td>\n",
       "      <td>요미우리 자이언츠</td>\n",
       "      <td>22</td>\n",
       "      <td>30</td>\n",
       "      <td>ORG</td>\n",
       "      <td>1967</td>\n",
       "      <td>0</td>\n",
       "      <td>3</td>\n",
       "      <td>DAT</td>\n",
       "      <td>no_relation</td>\n",
       "      <td>wikipedia</td>\n",
       "      <td>[S:ORG]</td>\n",
       "      <td>[/S:ORG]</td>\n",
       "      <td>[O:DAT]</td>\n",
       "      <td>[/O:DAT]</td>\n",
       "    </tr>\n",
       "  </tbody>\n",
       "</table>\n",
       "</div>"
      ],
      "text/plain": [
       "   id                                           sentence  sentence_length  \\\n",
       "0   0  〈Something〉는 [O:PER]조지 해리슨[/O:PER]이 쓰고 [S:ORG]...               59   \n",
       "1   1  호남이 기반인 바른미래당·[O:ORG]대안신당[/O:ORG]·[S:ORG]민주평화당...               54   \n",
       "2   2  K리그2에서 성적 1위를 달리고 있는 [S:ORG]광주FC[/S:ORG]는 지난 2...               99   \n",
       "3   3  균일가 생활용품점 (주)[S:ORG]아성다이소[/S:ORG](대표 [O:PER]박정...               78   \n",
       "4   4  [O:DAT]1967[/O:DAT]년 프로 야구 드래프트 1순위로 [S:ORG]요미...               56   \n",
       "\n",
       "  subject_entity_word  subject_entity_start_idx  subject_entity_end_idx  \\\n",
       "0                 비틀즈                        24                      26   \n",
       "1               민주평화당                        19                      23   \n",
       "2                광주FC                        21                      24   \n",
       "3               아성다이소                        13                      17   \n",
       "4           요미우리 자이언츠                        22                      30   \n",
       "\n",
       "  subject_entity_type object_entity_word  object_entity_start_idx  \\\n",
       "0                 ORG             조지 해리슨                       13   \n",
       "1                 ORG               대안신당                       14   \n",
       "2                 ORG           한국프로축구연맹                       34   \n",
       "3                 ORG                박정부                       22   \n",
       "4                 ORG               1967                        0   \n",
       "\n",
       "   object_entity_end_idx object_entity_type                      label  \\\n",
       "0                     18                PER                no_relation   \n",
       "1                     17                ORG                no_relation   \n",
       "2                     41                ORG              org:member_of   \n",
       "3                     24                PER  org:top_members/employees   \n",
       "4                      3                DAT                no_relation   \n",
       "\n",
       "      source subject_entity_start_token subject_entity_end_token  \\\n",
       "0  wikipedia                    [S:ORG]                 [/S:ORG]   \n",
       "1   wikitree                    [S:ORG]                 [/S:ORG]   \n",
       "2   wikitree                    [S:ORG]                 [/S:ORG]   \n",
       "3   wikitree                    [S:ORG]                 [/S:ORG]   \n",
       "4  wikipedia                    [S:ORG]                 [/S:ORG]   \n",
       "\n",
       "  object_entity_start_token object_entity_end_token  \n",
       "0                   [O:PER]                [/O:PER]  \n",
       "1                   [O:ORG]                [/O:ORG]  \n",
       "2                   [O:ORG]                [/O:ORG]  \n",
       "3                   [O:PER]                [/O:PER]  \n",
       "4                   [O:DAT]                [/O:DAT]  "
      ]
     },
     "execution_count": 48,
     "metadata": {},
     "output_type": "execute_result"
    }
   ],
   "source": [
    "dataset.head()"
   ]
  },
  {
   "cell_type": "markdown",
   "id": "75296014-9209-47a8-9ba4-05e217359879",
   "metadata": {},
   "source": [
    "<br>\n",
    "\n",
    "### 2.5.5 토크나이저에 스페셜 토큰 정보 삽입"
   ]
  },
  {
   "cell_type": "code",
   "execution_count": 49,
   "id": "cd0d084f-7c60-4b88-8b29-bf6c774a1d9b",
   "metadata": {},
   "outputs": [
    {
     "data": {
      "text/plain": [
       "PreTrainedTokenizerFast(name_or_path='klue/bert-base', vocab_size=32000, model_max_len=512, is_fast=True, padding_side='right', special_tokens={'unk_token': '[UNK]', 'sep_token': '[SEP]', 'pad_token': '[PAD]', 'cls_token': '[CLS]', 'mask_token': '[MASK]', 'additional_special_tokens': ['[S:ORG]', '[/S:ORG]', '[O:PER]', '[/O:PER]', '[O:ORG]', '[/O:ORG]', '[O:DAT]', '[/O:DAT]', '[S:PER]', '[/S:PER]', '[O:LOC]', '[/O:LOC]', '[O:POH]', '[/O:POH]', '[O:NOH]', '[/O:NOH]']})"
      ]
     },
     "execution_count": 49,
     "metadata": {},
     "output_type": "execute_result"
    }
   ],
   "source": [
    "tokenizer"
   ]
  },
  {
   "cell_type": "code",
   "execution_count": 21,
   "id": "623a4862-89df-4123-8c51-6f5c8059c518",
   "metadata": {},
   "outputs": [
    {
     "data": {
      "text/plain": [
       "id                                                                          0\n",
       "sentence                    〈Something〉는 조지 해리슨이 쓰고 비틀즈가 1969년 앨범 《Abbey R...\n",
       "sentence_length                                                            59\n",
       "subject_entity_word                                                       비틀즈\n",
       "subject_entity_start_idx                                                   24\n",
       "subject_entity_end_idx                                                     26\n",
       "subject_entity_type                                                       ORG\n",
       "object_entity_word                                                     조지 해리슨\n",
       "object_entity_start_idx                                                    13\n",
       "object_entity_end_idx                                                      18\n",
       "object_entity_type                                                        PER\n",
       "label                                                             no_relation\n",
       "source                                                              wikipedia\n",
       "entity_sentence             〈Something〉는 [O:PER]조지 해리슨[/O:PER]이 쓰고 [S:ORG]...\n",
       "Name: 0, dtype: object"
      ]
     },
     "execution_count": 21,
     "metadata": {},
     "output_type": "execute_result"
    }
   ],
   "source": [
    "sample = dataset.iloc[0,:]\n",
    "sample"
   ]
  },
  {
   "cell_type": "code",
   "execution_count": 26,
   "id": "c4bad4e1-d28e-4599-bfde-89db237b323e",
   "metadata": {},
   "outputs": [
    {
     "name": "stdout",
     "output_type": "stream",
     "text": [
      "['[CLS]', '〈', 'So', '##me', '##th', '##ing', '〉', '는', '[', 'O', ':', 'PER', ']', '조지', '해리', '##슨', '[', '/', 'O', ':', 'PER', ']', '이', '쓰', '##고', '[', 'S', ':', 'O', '##R', '##G', ']', '비틀즈', '[', '/', 'S', ':', 'O', '##R', '##G', ']', '가', '1969', '##년', '앨범', '《', 'Ab', '##be', '##y', 'Ro', '##ad', '》', '에', '담', '##은', '노래', '##다', '.', '[SEP]']\n"
     ]
    }
   ],
   "source": [
    "# 추가 전\n",
    "print(tokenizer.tokenize(sample['entity_sentence'], add_special_tokens=True))"
   ]
  },
  {
   "cell_type": "code",
   "execution_count": 29,
   "id": "56a42b0d-913d-422f-8e2c-26c8536ba9be",
   "metadata": {},
   "outputs": [
    {
     "name": "stdout",
     "output_type": "stream",
     "text": [
      "16\n"
     ]
    }
   ],
   "source": [
    "# 스페셜 토큰 추가\n",
    "added_token_num = tokenizer.add_special_tokens({'additional_special_tokens': special_tokens})\n",
    "print(added_token_num)"
   ]
  },
  {
   "cell_type": "code",
   "execution_count": 30,
   "id": "48f4aac1-5a4f-4106-a51b-fda545baf3b0",
   "metadata": {},
   "outputs": [
    {
     "name": "stdout",
     "output_type": "stream",
     "text": [
      "['[CLS]', '〈', 'So', '##me', '##th', '##ing', '〉', '는', '[O:PER]', '조지', '해리', '##슨', '[/O:PER]', '이', '쓰', '##고', '[S:ORG]', '비틀즈', '[/S:ORG]', '가', '1969', '##년', '앨범', '《', 'Ab', '##be', '##y', 'Ro', '##ad', '》', '에', '담', '##은', '노래', '##다', '.', '[SEP]']\n"
     ]
    }
   ],
   "source": [
    "# 추가 후\n",
    "print(tokenizer.tokenize(sample['entity_sentence'], add_special_tokens=True))"
   ]
  },
  {
   "cell_type": "markdown",
   "id": "95d5bc6a-2b10-46f3-9dad-167e4bba952b",
   "metadata": {},
   "source": [
    "<br>\n",
    "\n",
    "### 2.5.6 모델 embedding size 확장"
   ]
  },
  {
   "cell_type": "code",
   "execution_count": 32,
   "id": "d48b798b-ebcb-4cd3-864d-5dc64871a5ed",
   "metadata": {},
   "outputs": [
    {
     "name": "stderr",
     "output_type": "stream",
     "text": [
      "Some weights of the model checkpoint at klue/bert-base were not used when initializing BertModel: ['cls.predictions.transform.dense.weight', 'cls.predictions.decoder.bias', 'cls.predictions.decoder.weight', 'cls.predictions.transform.dense.bias', 'cls.predictions.transform.LayerNorm.weight', 'cls.seq_relationship.bias', 'cls.seq_relationship.weight', 'cls.predictions.bias', 'cls.predictions.transform.LayerNorm.bias']\n",
      "- This IS expected if you are initializing BertModel from the checkpoint of a model trained on another task or with another architecture (e.g. initializing a BertForSequenceClassification model from a BertForPreTraining model).\n",
      "- This IS NOT expected if you are initializing BertModel from the checkpoint of a model that you expect to be exactly identical (initializing a BertForSequenceClassification model from a BertForSequenceClassification model).\n"
     ]
    }
   ],
   "source": [
    "model = AutoModel.from_pretrained(MODEL_NAME)"
   ]
  },
  {
   "cell_type": "code",
   "execution_count": 33,
   "id": "19c9723c-79da-4e04-96fe-2f9115eb39fc",
   "metadata": {},
   "outputs": [
    {
     "name": "stdout",
     "output_type": "stream",
     "text": [
      "Embedding(32000, 768, padding_idx=0)\n"
     ]
    }
   ],
   "source": [
    "# 추가 전\n",
    "print(model.get_input_embeddings())"
   ]
  },
  {
   "cell_type": "code",
   "execution_count": 34,
   "id": "53e7ae9c-7949-4758-837a-4f58d0a29a3d",
   "metadata": {},
   "outputs": [
    {
     "data": {
      "text/plain": [
       "Embedding(32016, 768)"
      ]
     },
     "execution_count": 34,
     "metadata": {},
     "output_type": "execute_result"
    }
   ],
   "source": [
    "# 추가\n",
    "model.resize_token_embeddings(tokenizer.vocab_size + added_token_num)"
   ]
  },
  {
   "cell_type": "markdown",
   "id": "dd6f2879-b40c-4d2c-9834-798e832f8059",
   "metadata": {},
   "source": [
    "<br>\n",
    "\n",
    "### 2.5.7 토크나이즈된 데이터 생성"
   ]
  },
  {
   "cell_type": "code",
   "execution_count": 53,
   "id": "1ab3c811-e8c4-416d-8ac0-b16ce03cfcf1",
   "metadata": {},
   "outputs": [],
   "source": [
    "concat_entity = []\n",
    "\n",
    "for i, row in dataset.iterrows():\n",
    "    temp = row['subject_entity_start_token'] + \\\n",
    "        row['subject_entity_word'] + \\\n",
    "        row['subject_entity_end_token'] + \\\n",
    "        '[SEP]' + \\\n",
    "        row['object_entity_start_token'] + \\\n",
    "        row['object_entity_word'] + \\\n",
    "        row['object_entity_end_token']\n",
    "    concat_entity.append(temp)\n",
    "    \n",
    "tokenized_sentences = tokenizer(\n",
    "    concat_entity,\n",
    "    list(dataset['sentence']),\n",
    "    return_tensors='pt',\n",
    "    padding=True,\n",
    "    truncation=True,\n",
    "    max_length=256,\n",
    "    add_special_tokens=True\n",
    ")"
   ]
  },
  {
   "cell_type": "markdown",
   "id": "ca44d709-2206-423d-bf1c-b415942e4c5a",
   "metadata": {},
   "source": [
    "<br>\n",
    "\n",
    "### 2.5.8 샘플 확인"
   ]
  },
  {
   "cell_type": "code",
   "execution_count": 54,
   "id": "20946750-bf25-4d6c-a040-a0a762ce7136",
   "metadata": {},
   "outputs": [
    {
     "data": {
      "text/plain": [
       "tensor([    2, 32000, 29830, 32001,     3, 32002,  8373, 14113,  2234, 32003,\n",
       "            3,   168, 30985, 14451,  7088,  4586,   169,   793, 32002,  8373,\n",
       "        14113,  2234, 32003,  1504,  1363,  2088, 32000, 29830, 32001,   543,\n",
       "        14879,  2440,  6711,   170, 21406, 26713,  2076, 25145,  5749,   171,\n",
       "         1421,   818,  2073,  4388,  2062,    18,     3,     0,     0,     0,\n",
       "            0,     0,     0,     0,     0,     0,     0,     0,     0,     0,\n",
       "            0,     0,     0,     0,     0,     0,     0,     0,     0,     0,\n",
       "            0,     0,     0,     0,     0,     0,     0,     0,     0,     0,\n",
       "            0,     0,     0,     0,     0,     0,     0,     0,     0,     0,\n",
       "            0,     0,     0,     0,     0,     0,     0,     0,     0,     0,\n",
       "            0,     0,     0,     0,     0,     0,     0,     0,     0,     0,\n",
       "            0,     0,     0,     0,     0,     0,     0,     0,     0,     0,\n",
       "            0,     0,     0,     0,     0,     0,     0,     0,     0,     0,\n",
       "            0,     0,     0,     0,     0,     0,     0,     0,     0,     0,\n",
       "            0,     0,     0,     0,     0,     0,     0,     0,     0,     0,\n",
       "            0,     0,     0,     0,     0,     0,     0,     0,     0,     0,\n",
       "            0,     0,     0,     0,     0,     0,     0,     0,     0,     0,\n",
       "            0,     0,     0,     0,     0,     0,     0,     0,     0,     0,\n",
       "            0,     0,     0,     0,     0,     0,     0,     0,     0,     0,\n",
       "            0,     0,     0,     0,     0,     0,     0,     0,     0,     0,\n",
       "            0,     0,     0,     0,     0,     0,     0,     0,     0,     0,\n",
       "            0,     0,     0,     0,     0,     0,     0,     0,     0,     0,\n",
       "            0,     0,     0,     0,     0,     0,     0,     0,     0,     0,\n",
       "            0,     0,     0,     0,     0,     0,     0,     0,     0,     0,\n",
       "            0,     0,     0,     0,     0])"
      ]
     },
     "execution_count": 54,
     "metadata": {},
     "output_type": "execute_result"
    }
   ],
   "source": [
    "sample_ids = tokenized_sentences['input_ids'][0]\n",
    "sample_ids"
   ]
  },
  {
   "cell_type": "code",
   "execution_count": 55,
   "id": "013ab065-32ed-48d6-ba64-770330b680aa",
   "metadata": {},
   "outputs": [
    {
     "name": "stdout",
     "output_type": "stream",
     "text": [
      "['[CLS]', '[S:ORG]', '비틀즈', '[/S:ORG]', '[SEP]', '[O:PER]', '조지', '해리', '##슨', '[/O:PER]', '[SEP]', '〈', 'So', '##me', '##th', '##ing', '〉', '는', '[O:PER]', '조지', '해리', '##슨', '[/O:PER]', '이', '쓰', '##고', '[S:ORG]', '비틀즈', '[/S:ORG]', '가', '1969', '##년', '앨범', '《', 'Ab', '##be', '##y', 'Ro', '##ad', '》', '에', '담', '##은', '노래', '##다', '.', '[SEP]']\n"
     ]
    }
   ],
   "source": [
    "sample_tokens = tokenizer.convert_ids_to_tokens(sample_ids)\n",
    "sample_tokens = [token for token in sample_tokens if token != '[PAD]']\n",
    "print(sample_tokens)"
   ]
  },
  {
   "cell_type": "code",
   "execution_count": 58,
   "id": "56dbfd51-41e8-4d5a-8b5d-37c208bd7111",
   "metadata": {},
   "outputs": [
    {
     "data": {
      "text/plain": [
       "'[CLS] [S:ORG] 비틀즈 [/S:ORG] [SEP] [O:PER] 조지 해리슨 [/O:PER] [SEP] 〈 Something 〉 는 [O:PER] 조지 해리슨 [/O:PER] 이 쓰고 [S:ORG] 비틀즈 [/S:ORG] 가 1969년 앨범 《 Abbey Road 》 에 담은 노래다. [SEP] [PAD] [PAD] [PAD] [PAD] [PAD] [PAD] [PAD] [PAD] [PAD] [PAD] [PAD] [PAD] [PAD] [PAD] [PAD] [PAD] [PAD] [PAD] [PAD] [PAD] [PAD] [PAD] [PAD] [PAD] [PAD] [PAD] [PAD] [PAD] [PAD] [PAD] [PAD] [PAD] [PAD] [PAD] [PAD] [PAD] [PAD] [PAD] [PAD] [PAD] [PAD] [PAD] [PAD] [PAD] [PAD] [PAD] [PAD] [PAD] [PAD] [PAD] [PAD] [PAD] [PAD] [PAD] [PAD] [PAD] [PAD] [PAD] [PAD] [PAD] [PAD] [PAD] [PAD] [PAD] [PAD] [PAD] [PAD] [PAD] [PAD] [PAD] [PAD] [PAD] [PAD] [PAD] [PAD] [PAD] [PAD] [PAD] [PAD] [PAD] [PAD] [PAD] [PAD] [PAD] [PAD] [PAD] [PAD] [PAD] [PAD] [PAD] [PAD] [PAD] [PAD] [PAD] [PAD] [PAD] [PAD] [PAD] [PAD] [PAD] [PAD] [PAD] [PAD] [PAD] [PAD] [PAD] [PAD] [PAD] [PAD] [PAD] [PAD] [PAD] [PAD] [PAD] [PAD] [PAD] [PAD] [PAD] [PAD] [PAD] [PAD] [PAD] [PAD] [PAD] [PAD] [PAD] [PAD] [PAD] [PAD] [PAD] [PAD] [PAD] [PAD] [PAD] [PAD] [PAD] [PAD] [PAD] [PAD] [PAD] [PAD] [PAD] [PAD] [PAD] [PAD] [PAD] [PAD] [PAD] [PAD] [PAD] [PAD] [PAD] [PAD] [PAD] [PAD] [PAD] [PAD] [PAD] [PAD] [PAD] [PAD] [PAD] [PAD] [PAD] [PAD] [PAD] [PAD] [PAD] [PAD] [PAD] [PAD] [PAD] [PAD] [PAD] [PAD] [PAD] [PAD] [PAD] [PAD] [PAD] [PAD] [PAD] [PAD] [PAD] [PAD] [PAD] [PAD] [PAD] [PAD] [PAD] [PAD] [PAD] [PAD] [PAD] [PAD] [PAD] [PAD] [PAD]'"
      ]
     },
     "execution_count": 58,
     "metadata": {},
     "output_type": "execute_result"
    }
   ],
   "source": [
    "tokenizer.decode(sample_ids)"
   ]
  },
  {
   "cell_type": "code",
   "execution_count": 56,
   "id": "746537c7-d020-450f-afcf-6e4d5ba8cf6e",
   "metadata": {},
   "outputs": [
    {
     "data": {
      "text/plain": [
       "'〈Something〉는 [O:PER]조지 해리슨[/O:PER]이 쓰고 [S:ORG]비틀즈[/S:ORG]가 1969년 앨범 《Abbey Road》에 담은 노래다.'"
      ]
     },
     "execution_count": 56,
     "metadata": {},
     "output_type": "execute_result"
    }
   ],
   "source": [
    "dataset.loc[0, 'sentence']"
   ]
  },
  {
   "cell_type": "code",
   "execution_count": 57,
   "id": "ef6b4d08-0f74-401e-84a5-5ac61074907d",
   "metadata": {},
   "outputs": [
    {
     "name": "stdout",
     "output_type": "stream",
     "text": [
      "47\n"
     ]
    }
   ],
   "source": [
    "print(len(sample_tokens))"
   ]
  },
  {
   "cell_type": "code",
   "execution_count": null,
   "id": "77d25233-273d-442d-8e83-6aad99d04cb3",
   "metadata": {},
   "outputs": [],
   "source": []
  }
 ],
 "metadata": {
  "kernelspec": {
   "display_name": "Python 3 (ipykernel)",
   "language": "python",
   "name": "python3"
  },
  "language_info": {
   "codemirror_mode": {
    "name": "ipython",
    "version": 3
   },
   "file_extension": ".py",
   "mimetype": "text/x-python",
   "name": "python",
   "nbconvert_exporter": "python",
   "pygments_lexer": "ipython3",
   "version": "3.8.5"
  },
  "toc-autonumbering": false,
  "toc-showcode": false
 },
 "nbformat": 4,
 "nbformat_minor": 5
}
